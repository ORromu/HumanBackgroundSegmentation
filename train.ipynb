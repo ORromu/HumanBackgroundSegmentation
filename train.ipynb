{
 "cells": [
  {
   "cell_type": "markdown",
   "metadata": {},
   "source": [
    "# Human Background Segmentation (To run a last time)"
   ]
  },
  {
   "cell_type": "code",
   "execution_count": 1,
   "metadata": {},
   "outputs": [],
   "source": [
    "import os\n",
    "import glob\n",
    "import shutil\n",
    "import re"
   ]
  },
  {
   "cell_type": "markdown",
   "metadata": {},
   "source": [
    "1. Formating the tree\n",
    "\n",
    "The dataset will be transformed to get a train and test folders with a 80/20 ratio."
   ]
  },
  {
   "cell_type": "code",
   "execution_count": 2,
   "metadata": {},
   "outputs": [],
   "source": [
    "def sort_data():\n",
    "    train = \"./train\"\n",
    "    test = \"./test\"\n",
    "\n",
    "    gt = \"ground_truth\"\n",
    "    img = \"images\"\n",
    "\n",
    "    # Making the tree\n",
    "    if not os.path.isdir(train):\n",
    "\n",
    "        os.mkdir(train)\n",
    "        os.mkdir(os.path.join(train,gt))\n",
    "        os.mkdir(os.path.join(train,img))\n",
    "\n",
    "        os.mkdir(test)\n",
    "        os.mkdir(os.path.join(test,gt))\n",
    "        os.mkdir(os.path.join(test,img))\n",
    "\n",
    "    train_test_ratio = (0.8,0.2)\n",
    "\n",
    "    A = [glob.glob(\"./data/Ground_Truth/*\"),glob.glob(\"./data/Training_images/*\")]\n",
    "    \n",
    "    # Making a list containing the path to corresponding images and ground truth\n",
    "    links = []\n",
    "    for i in range(len(A[0])):\n",
    "        links.append((A[0][i],A[1][i]))\n",
    "\n",
    "    train_paths = links[0:int(train_test_ratio[0] * len(links))]\n",
    "    test_paths = links[int(train_test_ratio[0] * len(links)):]\n",
    "\n",
    "    pattern_jpg = r'\\\\([^\\\\]+\\.jpg)'\n",
    "    pattern_png = r'\\\\([^\\\\]+\\.png)'\n",
    "\n",
    "    train_data = []\n",
    "    for i in train_paths:\n",
    "        if not os.path.isdir(train):\n",
    "            shutil.copy2(i[0],os.path.join(train,gt))\n",
    "            shutil.copy2(i[1],os.path.join(train,img))\n",
    "        train_data.append((os.path.join(train,img,re.search(pattern_jpg,i[1]).group(1)),os.path.join(train,gt,re.search(pattern_png,i[0]).group(1))))\n",
    "\n",
    "    test_data = []\n",
    "    for i in test_paths:\n",
    "        if not os.path.isdir(train):\n",
    "            shutil.copy2(i[0],os.path.join(test,gt))\n",
    "            shutil.copy2(i[1],os.path.join(test,img))\n",
    "        test_data.append((os.path.join(test,img,re.search(pattern_jpg,i[1]).group(1)),os.path.join(test,gt,re.search(pattern_png,i[0]).group(1))))\n",
    "\n",
    "    return train_data,test_data\n",
    "\n",
    "train,test = sort_data()"
   ]
  },
  {
   "cell_type": "code",
   "execution_count": 3,
   "metadata": {},
   "outputs": [
    {
     "name": "stdout",
     "output_type": "stream",
     "text": [
      "[('./train\\\\images\\\\1.jpg', './train\\\\ground_truth\\\\1.png'), ('./train\\\\images\\\\10.jpg', './train\\\\ground_truth\\\\10.png'), ('./train\\\\images\\\\100.jpg', './train\\\\ground_truth\\\\100.png'), ('./train\\\\images\\\\101.jpg', './train\\\\ground_truth\\\\101.png'), ('./train\\\\images\\\\102.jpg', './train\\\\ground_truth\\\\102.png'), ('./train\\\\images\\\\103.jpg', './train\\\\ground_truth\\\\103.png'), ('./train\\\\images\\\\104.jpg', './train\\\\ground_truth\\\\104.png'), ('./train\\\\images\\\\105.jpg', './train\\\\ground_truth\\\\105.png'), ('./train\\\\images\\\\106.jpg', './train\\\\ground_truth\\\\106.png'), ('./train\\\\images\\\\107.jpg', './train\\\\ground_truth\\\\107.png'), ('./train\\\\images\\\\108.jpg', './train\\\\ground_truth\\\\108.png'), ('./train\\\\images\\\\109.jpg', './train\\\\ground_truth\\\\109.png'), ('./train\\\\images\\\\11.jpg', './train\\\\ground_truth\\\\11.png'), ('./train\\\\images\\\\110.jpg', './train\\\\ground_truth\\\\110.png'), ('./train\\\\images\\\\111.jpg', './train\\\\ground_truth\\\\111.png'), ('./train\\\\images\\\\112.jpg', './train\\\\ground_truth\\\\112.png'), ('./train\\\\images\\\\113.jpg', './train\\\\ground_truth\\\\113.png'), ('./train\\\\images\\\\114.jpg', './train\\\\ground_truth\\\\114.png'), ('./train\\\\images\\\\115.jpg', './train\\\\ground_truth\\\\115.png'), ('./train\\\\images\\\\116.jpg', './train\\\\ground_truth\\\\116.png'), ('./train\\\\images\\\\117.jpg', './train\\\\ground_truth\\\\117.png'), ('./train\\\\images\\\\118.jpg', './train\\\\ground_truth\\\\118.png'), ('./train\\\\images\\\\119.jpg', './train\\\\ground_truth\\\\119.png'), ('./train\\\\images\\\\12.jpg', './train\\\\ground_truth\\\\12.png'), ('./train\\\\images\\\\120.jpg', './train\\\\ground_truth\\\\120.png'), ('./train\\\\images\\\\121.jpg', './train\\\\ground_truth\\\\121.png'), ('./train\\\\images\\\\122.jpg', './train\\\\ground_truth\\\\122.png'), ('./train\\\\images\\\\123.jpg', './train\\\\ground_truth\\\\123.png'), ('./train\\\\images\\\\124.jpg', './train\\\\ground_truth\\\\124.png'), ('./train\\\\images\\\\125.jpg', './train\\\\ground_truth\\\\125.png'), ('./train\\\\images\\\\126.jpg', './train\\\\ground_truth\\\\126.png'), ('./train\\\\images\\\\127.jpg', './train\\\\ground_truth\\\\127.png'), ('./train\\\\images\\\\128.jpg', './train\\\\ground_truth\\\\128.png'), ('./train\\\\images\\\\129.jpg', './train\\\\ground_truth\\\\129.png'), ('./train\\\\images\\\\13.jpg', './train\\\\ground_truth\\\\13.png'), ('./train\\\\images\\\\130.jpg', './train\\\\ground_truth\\\\130.png'), ('./train\\\\images\\\\131.jpg', './train\\\\ground_truth\\\\131.png'), ('./train\\\\images\\\\132.jpg', './train\\\\ground_truth\\\\132.png'), ('./train\\\\images\\\\133.jpg', './train\\\\ground_truth\\\\133.png'), ('./train\\\\images\\\\134.jpg', './train\\\\ground_truth\\\\134.png'), ('./train\\\\images\\\\135.jpg', './train\\\\ground_truth\\\\135.png'), ('./train\\\\images\\\\136.jpg', './train\\\\ground_truth\\\\136.png'), ('./train\\\\images\\\\137.jpg', './train\\\\ground_truth\\\\137.png'), ('./train\\\\images\\\\138.jpg', './train\\\\ground_truth\\\\138.png'), ('./train\\\\images\\\\139.jpg', './train\\\\ground_truth\\\\139.png'), ('./train\\\\images\\\\14.jpg', './train\\\\ground_truth\\\\14.png'), ('./train\\\\images\\\\140.jpg', './train\\\\ground_truth\\\\140.png'), ('./train\\\\images\\\\141.jpg', './train\\\\ground_truth\\\\141.png'), ('./train\\\\images\\\\142.jpg', './train\\\\ground_truth\\\\142.png'), ('./train\\\\images\\\\143.jpg', './train\\\\ground_truth\\\\143.png'), ('./train\\\\images\\\\144.jpg', './train\\\\ground_truth\\\\144.png'), ('./train\\\\images\\\\145.jpg', './train\\\\ground_truth\\\\145.png'), ('./train\\\\images\\\\146.jpg', './train\\\\ground_truth\\\\146.png'), ('./train\\\\images\\\\147.jpg', './train\\\\ground_truth\\\\147.png'), ('./train\\\\images\\\\148.jpg', './train\\\\ground_truth\\\\148.png'), ('./train\\\\images\\\\149.jpg', './train\\\\ground_truth\\\\149.png'), ('./train\\\\images\\\\15.jpg', './train\\\\ground_truth\\\\15.png'), ('./train\\\\images\\\\150.jpg', './train\\\\ground_truth\\\\150.png'), ('./train\\\\images\\\\151.jpg', './train\\\\ground_truth\\\\151.png'), ('./train\\\\images\\\\152.jpg', './train\\\\ground_truth\\\\152.png'), ('./train\\\\images\\\\153.jpg', './train\\\\ground_truth\\\\153.png'), ('./train\\\\images\\\\154.jpg', './train\\\\ground_truth\\\\154.png'), ('./train\\\\images\\\\155.jpg', './train\\\\ground_truth\\\\155.png'), ('./train\\\\images\\\\156.jpg', './train\\\\ground_truth\\\\156.png'), ('./train\\\\images\\\\157.jpg', './train\\\\ground_truth\\\\157.png'), ('./train\\\\images\\\\158.jpg', './train\\\\ground_truth\\\\158.png'), ('./train\\\\images\\\\159.jpg', './train\\\\ground_truth\\\\159.png'), ('./train\\\\images\\\\16.jpg', './train\\\\ground_truth\\\\16.png'), ('./train\\\\images\\\\160.jpg', './train\\\\ground_truth\\\\160.png'), ('./train\\\\images\\\\161.jpg', './train\\\\ground_truth\\\\161.png'), ('./train\\\\images\\\\162.jpg', './train\\\\ground_truth\\\\162.png'), ('./train\\\\images\\\\163.jpg', './train\\\\ground_truth\\\\163.png'), ('./train\\\\images\\\\164.jpg', './train\\\\ground_truth\\\\164.png'), ('./train\\\\images\\\\165.jpg', './train\\\\ground_truth\\\\165.png'), ('./train\\\\images\\\\166.jpg', './train\\\\ground_truth\\\\166.png'), ('./train\\\\images\\\\167.jpg', './train\\\\ground_truth\\\\167.png'), ('./train\\\\images\\\\168.jpg', './train\\\\ground_truth\\\\168.png'), ('./train\\\\images\\\\169.jpg', './train\\\\ground_truth\\\\169.png'), ('./train\\\\images\\\\17.jpg', './train\\\\ground_truth\\\\17.png'), ('./train\\\\images\\\\170.jpg', './train\\\\ground_truth\\\\170.png'), ('./train\\\\images\\\\171.jpg', './train\\\\ground_truth\\\\171.png'), ('./train\\\\images\\\\172.jpg', './train\\\\ground_truth\\\\172.png'), ('./train\\\\images\\\\173.jpg', './train\\\\ground_truth\\\\173.png'), ('./train\\\\images\\\\174.jpg', './train\\\\ground_truth\\\\174.png'), ('./train\\\\images\\\\175.jpg', './train\\\\ground_truth\\\\175.png'), ('./train\\\\images\\\\176.jpg', './train\\\\ground_truth\\\\176.png'), ('./train\\\\images\\\\177.jpg', './train\\\\ground_truth\\\\177.png'), ('./train\\\\images\\\\178.jpg', './train\\\\ground_truth\\\\178.png'), ('./train\\\\images\\\\179.jpg', './train\\\\ground_truth\\\\179.png'), ('./train\\\\images\\\\18.jpg', './train\\\\ground_truth\\\\18.png'), ('./train\\\\images\\\\180.jpg', './train\\\\ground_truth\\\\180.png'), ('./train\\\\images\\\\181.jpg', './train\\\\ground_truth\\\\181.png'), ('./train\\\\images\\\\182.jpg', './train\\\\ground_truth\\\\182.png'), ('./train\\\\images\\\\183.jpg', './train\\\\ground_truth\\\\183.png'), ('./train\\\\images\\\\184.jpg', './train\\\\ground_truth\\\\184.png'), ('./train\\\\images\\\\185.jpg', './train\\\\ground_truth\\\\185.png'), ('./train\\\\images\\\\186.jpg', './train\\\\ground_truth\\\\186.png'), ('./train\\\\images\\\\187.jpg', './train\\\\ground_truth\\\\187.png'), ('./train\\\\images\\\\188.jpg', './train\\\\ground_truth\\\\188.png'), ('./train\\\\images\\\\189.jpg', './train\\\\ground_truth\\\\189.png'), ('./train\\\\images\\\\19.jpg', './train\\\\ground_truth\\\\19.png'), ('./train\\\\images\\\\190.jpg', './train\\\\ground_truth\\\\190.png'), ('./train\\\\images\\\\191.jpg', './train\\\\ground_truth\\\\191.png'), ('./train\\\\images\\\\192.jpg', './train\\\\ground_truth\\\\192.png'), ('./train\\\\images\\\\193.jpg', './train\\\\ground_truth\\\\193.png'), ('./train\\\\images\\\\194.jpg', './train\\\\ground_truth\\\\194.png'), ('./train\\\\images\\\\195.jpg', './train\\\\ground_truth\\\\195.png'), ('./train\\\\images\\\\196.jpg', './train\\\\ground_truth\\\\196.png'), ('./train\\\\images\\\\197.jpg', './train\\\\ground_truth\\\\197.png'), ('./train\\\\images\\\\198.jpg', './train\\\\ground_truth\\\\198.png'), ('./train\\\\images\\\\199.jpg', './train\\\\ground_truth\\\\199.png'), ('./train\\\\images\\\\2.jpg', './train\\\\ground_truth\\\\2.png'), ('./train\\\\images\\\\20.jpg', './train\\\\ground_truth\\\\20.png'), ('./train\\\\images\\\\200.jpg', './train\\\\ground_truth\\\\200.png'), ('./train\\\\images\\\\201.jpg', './train\\\\ground_truth\\\\201.png'), ('./train\\\\images\\\\202.jpg', './train\\\\ground_truth\\\\202.png'), ('./train\\\\images\\\\203.jpg', './train\\\\ground_truth\\\\203.png'), ('./train\\\\images\\\\204.jpg', './train\\\\ground_truth\\\\204.png'), ('./train\\\\images\\\\205.jpg', './train\\\\ground_truth\\\\205.png'), ('./train\\\\images\\\\206.jpg', './train\\\\ground_truth\\\\206.png'), ('./train\\\\images\\\\207.jpg', './train\\\\ground_truth\\\\207.png'), ('./train\\\\images\\\\208.jpg', './train\\\\ground_truth\\\\208.png'), ('./train\\\\images\\\\209.jpg', './train\\\\ground_truth\\\\209.png'), ('./train\\\\images\\\\21.jpg', './train\\\\ground_truth\\\\21.png'), ('./train\\\\images\\\\210.jpg', './train\\\\ground_truth\\\\210.png'), ('./train\\\\images\\\\211.jpg', './train\\\\ground_truth\\\\211.png'), ('./train\\\\images\\\\212.jpg', './train\\\\ground_truth\\\\212.png'), ('./train\\\\images\\\\213.jpg', './train\\\\ground_truth\\\\213.png'), ('./train\\\\images\\\\214.jpg', './train\\\\ground_truth\\\\214.png'), ('./train\\\\images\\\\215.jpg', './train\\\\ground_truth\\\\215.png'), ('./train\\\\images\\\\216.jpg', './train\\\\ground_truth\\\\216.png'), ('./train\\\\images\\\\217.jpg', './train\\\\ground_truth\\\\217.png'), ('./train\\\\images\\\\218.jpg', './train\\\\ground_truth\\\\218.png'), ('./train\\\\images\\\\219.jpg', './train\\\\ground_truth\\\\219.png'), ('./train\\\\images\\\\22.jpg', './train\\\\ground_truth\\\\22.png'), ('./train\\\\images\\\\220.jpg', './train\\\\ground_truth\\\\220.png'), ('./train\\\\images\\\\221.jpg', './train\\\\ground_truth\\\\221.png'), ('./train\\\\images\\\\222.jpg', './train\\\\ground_truth\\\\222.png'), ('./train\\\\images\\\\223.jpg', './train\\\\ground_truth\\\\223.png'), ('./train\\\\images\\\\224.jpg', './train\\\\ground_truth\\\\224.png'), ('./train\\\\images\\\\225.jpg', './train\\\\ground_truth\\\\225.png'), ('./train\\\\images\\\\226.jpg', './train\\\\ground_truth\\\\226.png'), ('./train\\\\images\\\\227.jpg', './train\\\\ground_truth\\\\227.png'), ('./train\\\\images\\\\228.jpg', './train\\\\ground_truth\\\\228.png'), ('./train\\\\images\\\\229.jpg', './train\\\\ground_truth\\\\229.png'), ('./train\\\\images\\\\23.jpg', './train\\\\ground_truth\\\\23.png'), ('./train\\\\images\\\\230.jpg', './train\\\\ground_truth\\\\230.png'), ('./train\\\\images\\\\231.jpg', './train\\\\ground_truth\\\\231.png'), ('./train\\\\images\\\\232.jpg', './train\\\\ground_truth\\\\232.png'), ('./train\\\\images\\\\233.jpg', './train\\\\ground_truth\\\\233.png'), ('./train\\\\images\\\\234.jpg', './train\\\\ground_truth\\\\234.png'), ('./train\\\\images\\\\235.jpg', './train\\\\ground_truth\\\\235.png'), ('./train\\\\images\\\\236.jpg', './train\\\\ground_truth\\\\236.png'), ('./train\\\\images\\\\237.jpg', './train\\\\ground_truth\\\\237.png'), ('./train\\\\images\\\\238.jpg', './train\\\\ground_truth\\\\238.png'), ('./train\\\\images\\\\239.jpg', './train\\\\ground_truth\\\\239.png'), ('./train\\\\images\\\\24.jpg', './train\\\\ground_truth\\\\24.png'), ('./train\\\\images\\\\240.jpg', './train\\\\ground_truth\\\\240.png'), ('./train\\\\images\\\\241.jpg', './train\\\\ground_truth\\\\241.png'), ('./train\\\\images\\\\242.jpg', './train\\\\ground_truth\\\\242.png'), ('./train\\\\images\\\\243.jpg', './train\\\\ground_truth\\\\243.png'), ('./train\\\\images\\\\244.jpg', './train\\\\ground_truth\\\\244.png'), ('./train\\\\images\\\\245.jpg', './train\\\\ground_truth\\\\245.png'), ('./train\\\\images\\\\246.jpg', './train\\\\ground_truth\\\\246.png'), ('./train\\\\images\\\\247.jpg', './train\\\\ground_truth\\\\247.png'), ('./train\\\\images\\\\248.jpg', './train\\\\ground_truth\\\\248.png'), ('./train\\\\images\\\\249.jpg', './train\\\\ground_truth\\\\249.png'), ('./train\\\\images\\\\25.jpg', './train\\\\ground_truth\\\\25.png'), ('./train\\\\images\\\\250.jpg', './train\\\\ground_truth\\\\250.png'), ('./train\\\\images\\\\251.jpg', './train\\\\ground_truth\\\\251.png'), ('./train\\\\images\\\\252.jpg', './train\\\\ground_truth\\\\252.png'), ('./train\\\\images\\\\253.jpg', './train\\\\ground_truth\\\\253.png'), ('./train\\\\images\\\\254.jpg', './train\\\\ground_truth\\\\254.png'), ('./train\\\\images\\\\255.jpg', './train\\\\ground_truth\\\\255.png'), ('./train\\\\images\\\\256.jpg', './train\\\\ground_truth\\\\256.png'), ('./train\\\\images\\\\257.jpg', './train\\\\ground_truth\\\\257.png'), ('./train\\\\images\\\\258.jpg', './train\\\\ground_truth\\\\258.png'), ('./train\\\\images\\\\259.jpg', './train\\\\ground_truth\\\\259.png'), ('./train\\\\images\\\\26.jpg', './train\\\\ground_truth\\\\26.png'), ('./train\\\\images\\\\260.jpg', './train\\\\ground_truth\\\\260.png'), ('./train\\\\images\\\\261.jpg', './train\\\\ground_truth\\\\261.png'), ('./train\\\\images\\\\262.jpg', './train\\\\ground_truth\\\\262.png'), ('./train\\\\images\\\\263.jpg', './train\\\\ground_truth\\\\263.png'), ('./train\\\\images\\\\264.jpg', './train\\\\ground_truth\\\\264.png'), ('./train\\\\images\\\\265.jpg', './train\\\\ground_truth\\\\265.png'), ('./train\\\\images\\\\266.jpg', './train\\\\ground_truth\\\\266.png'), ('./train\\\\images\\\\267.jpg', './train\\\\ground_truth\\\\267.png'), ('./train\\\\images\\\\268.jpg', './train\\\\ground_truth\\\\268.png'), ('./train\\\\images\\\\269.jpg', './train\\\\ground_truth\\\\269.png'), ('./train\\\\images\\\\27.jpg', './train\\\\ground_truth\\\\27.png'), ('./train\\\\images\\\\270.jpg', './train\\\\ground_truth\\\\270.png'), ('./train\\\\images\\\\271.jpg', './train\\\\ground_truth\\\\271.png'), ('./train\\\\images\\\\272.jpg', './train\\\\ground_truth\\\\272.png'), ('./train\\\\images\\\\273.jpg', './train\\\\ground_truth\\\\273.png'), ('./train\\\\images\\\\274.jpg', './train\\\\ground_truth\\\\274.png'), ('./train\\\\images\\\\275.jpg', './train\\\\ground_truth\\\\275.png'), ('./train\\\\images\\\\276.jpg', './train\\\\ground_truth\\\\276.png'), ('./train\\\\images\\\\277.jpg', './train\\\\ground_truth\\\\277.png'), ('./train\\\\images\\\\278.jpg', './train\\\\ground_truth\\\\278.png'), ('./train\\\\images\\\\279.jpg', './train\\\\ground_truth\\\\279.png'), ('./train\\\\images\\\\28.jpg', './train\\\\ground_truth\\\\28.png'), ('./train\\\\images\\\\280.jpg', './train\\\\ground_truth\\\\280.png'), ('./train\\\\images\\\\281.jpg', './train\\\\ground_truth\\\\281.png'), ('./train\\\\images\\\\282.jpg', './train\\\\ground_truth\\\\282.png'), ('./train\\\\images\\\\283.jpg', './train\\\\ground_truth\\\\283.png'), ('./train\\\\images\\\\284.jpg', './train\\\\ground_truth\\\\284.png'), ('./train\\\\images\\\\285.jpg', './train\\\\ground_truth\\\\285.png'), ('./train\\\\images\\\\286.jpg', './train\\\\ground_truth\\\\286.png'), ('./train\\\\images\\\\287.jpg', './train\\\\ground_truth\\\\287.png'), ('./train\\\\images\\\\288.jpg', './train\\\\ground_truth\\\\288.png'), ('./train\\\\images\\\\289.jpg', './train\\\\ground_truth\\\\289.png'), ('./train\\\\images\\\\29.jpg', './train\\\\ground_truth\\\\29.png'), ('./train\\\\images\\\\3.jpg', './train\\\\ground_truth\\\\3.png'), ('./train\\\\images\\\\30.jpg', './train\\\\ground_truth\\\\30.png'), ('./train\\\\images\\\\300.jpg', './train\\\\ground_truth\\\\300.png'), ('./train\\\\images\\\\31.jpg', './train\\\\ground_truth\\\\31.png'), ('./train\\\\images\\\\32.jpg', './train\\\\ground_truth\\\\32.png'), ('./train\\\\images\\\\33.jpg', './train\\\\ground_truth\\\\33.png'), ('./train\\\\images\\\\34.jpg', './train\\\\ground_truth\\\\34.png'), ('./train\\\\images\\\\35.jpg', './train\\\\ground_truth\\\\35.png'), ('./train\\\\images\\\\36.jpg', './train\\\\ground_truth\\\\36.png'), ('./train\\\\images\\\\37.jpg', './train\\\\ground_truth\\\\37.png'), ('./train\\\\images\\\\38.jpg', './train\\\\ground_truth\\\\38.png'), ('./train\\\\images\\\\39.jpg', './train\\\\ground_truth\\\\39.png'), ('./train\\\\images\\\\4.jpg', './train\\\\ground_truth\\\\4.png'), ('./train\\\\images\\\\40.jpg', './train\\\\ground_truth\\\\40.png'), ('./train\\\\images\\\\41.jpg', './train\\\\ground_truth\\\\41.png'), ('./train\\\\images\\\\42.jpg', './train\\\\ground_truth\\\\42.png'), ('./train\\\\images\\\\43.jpg', './train\\\\ground_truth\\\\43.png'), ('./train\\\\images\\\\44.jpg', './train\\\\ground_truth\\\\44.png'), ('./train\\\\images\\\\45.jpg', './train\\\\ground_truth\\\\45.png'), ('./train\\\\images\\\\46.jpg', './train\\\\ground_truth\\\\46.png')]\n"
     ]
    }
   ],
   "source": [
    "print(train)"
   ]
  },
  {
   "cell_type": "markdown",
   "metadata": {},
   "source": [
    "2. Building our Pytorch Dataset"
   ]
  },
  {
   "cell_type": "code",
   "execution_count": 4,
   "metadata": {},
   "outputs": [],
   "source": [
    "import torch\n",
    "from torch.utils.data import Dataset, DataLoader\n",
    "from torchvision import transforms, utils\n",
    "from skimage import io, transform\n",
    "from torch import nn\n",
    "import numpy as np\n",
    "import matplotlib.pyplot as plt\n",
    "\n",
    "from torchvision import datasets\n",
    "\n",
    "import utils as ou \n",
    "from model import UNet"
   ]
  },
  {
   "cell_type": "code",
   "execution_count": 5,
   "metadata": {},
   "outputs": [
    {
     "data": {
      "text/plain": [
       "'cuda'"
      ]
     },
     "execution_count": 5,
     "metadata": {},
     "output_type": "execute_result"
    }
   ],
   "source": [
    "device = \"cuda\" if torch.cuda.is_available() else \"cpu\"\n",
    "device"
   ]
  },
  {
   "cell_type": "code",
   "execution_count": 6,
   "metadata": {},
   "outputs": [],
   "source": [
    "class HumanBackgroundSegDataset(Dataset):\n",
    "    \"\"\"Human Background Segmentation dataset.\"\"\"\n",
    "\n",
    "    def __init__(self, links, transform=None):\n",
    "        \"\"\"\n",
    "        Arguments:\n",
    "            links (list of tuples): Path to the csv file with annotations.\n",
    "            transform (callable, optional): Optional transform to be applied\n",
    "                on a sample.\n",
    "        \"\"\"\n",
    "        self.links = links\n",
    "        self.transform = transform\n",
    "   \n",
    "    def __len__(self):\n",
    "        return len(self.links)\n",
    "\n",
    "    def __getitem__(self,idx):\n",
    "        if torch.is_tensor(idx):\n",
    "            idx = idx.tolist()\n",
    "\n",
    "        img_name = self.links[idx][0]\n",
    "        gt_name = self.links[idx][1]\n",
    "\n",
    "        image = io.imread(img_name)\n",
    "        ground_truth = io.imread(gt_name)\n",
    "\n",
    "        sample = {'image': image, 'segmentation': ground_truth}\n",
    "\n",
    "        if self.transform:\n",
    "            sample = self.transform(sample)\n",
    "\n",
    "        return sample\n"
   ]
  },
  {
   "cell_type": "markdown",
   "metadata": {},
   "source": [
    "We will define our own transformations so that they could be applied to both an image and it's segmentation"
   ]
  },
  {
   "cell_type": "code",
   "execution_count": 7,
   "metadata": {},
   "outputs": [],
   "source": [
    "# Classes mostly modified from the ones defined on: https://pytorch.org/tutorials/beginner/data_loading_tutorial.html\n",
    "\n",
    "from PIL import Image\n",
    "\n",
    "class Rescale(object):\n",
    "    \"\"\"Rescale the image in a sample to a given size.\n",
    "\n",
    "    Args:\n",
    "        output_size (tuple or int): Desired output size. If tuple, output is\n",
    "            matched to output_size. If int, smaller of image edges is matched\n",
    "            to output_size keeping aspect ratio the same.\n",
    "    \"\"\"\n",
    "\n",
    "    def __init__(self, output_size,seg_size):\n",
    "        assert isinstance(output_size, (int, tuple))\n",
    "        assert isinstance(seg_size, (int, tuple))\n",
    "        self.output_size = output_size\n",
    "        self.seg_size = seg_size\n",
    "\n",
    "    def __call__(self, sample):\n",
    "        image, seg = sample['image'], sample['segmentation']\n",
    "\n",
    "        image = transform.resize(image, (self.output_size, self.output_size)) \n",
    "        \n",
    "        seg = transform.resize(seg, (self.seg_size, self.seg_size))\n",
    "        seg[seg>=0.5] = 1.0\n",
    "        seg[seg<0.5] = 0\n",
    "        return {'image': image, 'segmentation': seg}\n",
    "\n",
    "\n",
    "class RandomCrop(object):\n",
    "    \"\"\"Crop randomly the image in a sample.\n",
    "\n",
    "    Args:\n",
    "        output_size (tuple or int): Desired output size. If int, square crop\n",
    "            is made.\n",
    "    \"\"\"\n",
    "\n",
    "    def __init__(self, output_size):\n",
    "        assert isinstance(output_size, (int, tuple))\n",
    "        if isinstance(output_size, int):\n",
    "            self.output_size = (output_size, output_size)\n",
    "        else:\n",
    "            assert len(output_size) == 2\n",
    "            self.output_size = output_size\n",
    "\n",
    "    def __call__(self, sample):\n",
    "        image, seg = sample['image'], sample['segmentation']\n",
    "\n",
    "        h, w = image.shape[:2]\n",
    "        new_h, new_w = self.output_size\n",
    "\n",
    "        top = np.random.randint(0, h - new_h + 1)\n",
    "        left = np.random.randint(0, w - new_w + 1)\n",
    "\n",
    "        image = image[top: top + new_h,\n",
    "                      left: left + new_w]\n",
    "\n",
    "        seg = seg[top: top + new_h,\n",
    "                      left: left + new_w]\n",
    "\n",
    "        return {'image': image, 'segmentation': seg}\n",
    "\n",
    "class RandomRotation(object):\n",
    "    \"\"\"Rotate randomly the image in a sample.\n",
    "\n",
    "    Args:\n",
    "        Angle (int): Rotation angle\n",
    "    \"\"\"\n",
    "\n",
    "    def __init__(self, angle):\n",
    "        self.angle = angle\n",
    "\n",
    "    def __call__(self, sample):\n",
    "        image, seg = sample['image'], sample['segmentation']\n",
    "\n",
    "        # HERE ADD THE TRANSFORMATION ON BOTH THE INPUT AND THE OUTPUT\n",
    "        rand_angle = np.random.randint(-self.angle, self.angle)\n",
    "\n",
    "        image = transform.rotate(image = image, angle= rand_angle)\n",
    "\n",
    "        seg = transform.rotate(image= seg, angle= rand_angle)\n",
    "\n",
    "        return {'image': image, 'segmentation': seg}\n",
    "\n",
    "class ColorJitter(object):\n",
    "    def __call__(self,sample):\n",
    "        image, seg = sample['image'], sample['segmentation']\n",
    "\n",
    "        #image = Image.fromarray(255*image.astype('uint8'),mode='RGB')\n",
    "        image = torch.from_numpy(image.transpose((2, 0, 1)))\n",
    "\n",
    "        trs = transforms.ColorJitter(brightness=(0.9,1.1), contrast=(1), saturation=(0.9,1.1), hue=(-0.05,0.05))\n",
    "\n",
    "        image = trs(image)\n",
    "\n",
    "        return {'image': image.numpy().transpose((1,2,0)), 'segmentation': seg}\n",
    "    \n",
    "class ToTensor(object):\n",
    "    \"\"\"Convert ndarrays in sample to Tensors.\"\"\"\n",
    "\n",
    "    def __call__(self, sample):\n",
    "        image, seg = sample['image'], sample['segmentation']\n",
    "\n",
    "        # swap color axis because\n",
    "        # numpy image: H x W x C\n",
    "        # torch image: C x H x W\n",
    "\n",
    "        if len(image.shape) == 2:\n",
    "            image = np.dstack((image, image, image))\n",
    "\n",
    "        seg[seg>=0.5] = 1.0\n",
    "        seg[seg<0.5] = 0\n",
    "        image = image.transpose((2, 0, 1))\n",
    "        return {'image': torch.from_numpy(image).type(torch.float16),\n",
    "                'segmentation': torch.from_numpy(seg).type(torch.float16)}\n",
    "\n",
    "    \n",
    "class Normalization(object):\n",
    "    def __init__(self, mean = [0.485, 0.456, 0.406], std = [0.229, 0.224, 0.225]):\n",
    "        self.mean = mean\n",
    "        self.std = std\n",
    "    \n",
    "    def __call__(self,sample):\n",
    "        return {'image':transforms.Normalize(mean = self.mean,std = self.std)(sample['image']),'segmentation':sample['segmentation']}\n",
    "\n",
    "\n",
    "image_transform = {\n",
    "    'train' : transforms.Compose([\n",
    "            Rescale(256,256),  \n",
    "            #RandomCrop(156),\n",
    "            #Rescale(256,256),    \n",
    "            RandomRotation(20),\n",
    "            #ColorJitter(),\n",
    "            ToTensor(),\n",
    "            Normalization()]),\n",
    "\n",
    "    'test' : transforms.Compose([\n",
    "            Rescale(256,256),\n",
    "            ToTensor(),\n",
    "            Normalization()])\n",
    "}"
   ]
  },
  {
   "cell_type": "code",
   "execution_count": 8,
   "metadata": {},
   "outputs": [],
   "source": [
    "train_dataset = HumanBackgroundSegDataset(train, transform = image_transform['train'])\n",
    "test_dataset = HumanBackgroundSegDataset(test, transform = image_transform['test'])"
   ]
  },
  {
   "cell_type": "markdown",
   "metadata": {},
   "source": [
    "Example of the augmentation of the training set (To run multiple times to see the changes)"
   ]
  },
  {
   "cell_type": "code",
   "execution_count": 9,
   "metadata": {},
   "outputs": [
    {
     "name": "stdout",
     "output_type": "stream",
     "text": [
      "tensor([[[-2.1191, -2.1191, -2.1191,  ..., -2.1191, -2.1191, -2.1191],\n",
      "         [-2.1191, -2.1191, -2.1191,  ..., -2.1191, -2.1191, -2.1191],\n",
      "         [-2.1191, -2.1191, -2.1191,  ..., -2.1191, -2.1191, -2.1191],\n",
      "         ...,\n",
      "         [-2.1191, -2.1191, -2.1191,  ..., -2.1191, -2.1191, -2.1191],\n",
      "         [-2.1191, -2.1191, -2.1191,  ..., -2.1191, -2.1191, -2.1191],\n",
      "         [-2.1191, -2.1191, -2.1191,  ..., -2.1191, -2.1191, -2.1191]],\n",
      "\n",
      "        [[-2.0352, -2.0352, -2.0352,  ..., -2.0352, -2.0352, -2.0352],\n",
      "         [-2.0352, -2.0352, -2.0352,  ..., -2.0352, -2.0352, -2.0352],\n",
      "         [-2.0352, -2.0352, -2.0352,  ..., -2.0352, -2.0352, -2.0352],\n",
      "         ...,\n",
      "         [-2.0352, -2.0352, -2.0352,  ..., -2.0352, -2.0352, -2.0352],\n",
      "         [-2.0352, -2.0352, -2.0352,  ..., -2.0352, -2.0352, -2.0352],\n",
      "         [-2.0352, -2.0352, -2.0352,  ..., -2.0352, -2.0352, -2.0352]],\n",
      "\n",
      "        [[-1.8047, -1.8047, -1.8047,  ..., -1.8047, -1.8047, -1.8047],\n",
      "         [-1.8047, -1.8047, -1.8047,  ..., -1.8047, -1.8047, -1.8047],\n",
      "         [-1.8047, -1.8047, -1.8047,  ..., -1.8047, -1.8047, -1.8047],\n",
      "         ...,\n",
      "         [-1.8047, -1.8047, -1.8047,  ..., -1.8047, -1.8047, -1.8047],\n",
      "         [-1.8047, -1.8047, -1.8047,  ..., -1.8047, -1.8047, -1.8047],\n",
      "         [-1.8047, -1.8047, -1.8047,  ..., -1.8047, -1.8047, -1.8047]]],\n",
      "       dtype=torch.float16)\n"
     ]
    }
   ],
   "source": [
    "data = train_dataset[0]\n",
    "\n",
    "def plot_data(sample):\n",
    "\n",
    "    img = torch.permute(sample['image'],[1,2,0]).numpy()\n",
    "    seg = sample['segmentation'].numpy()\n",
    "\n",
    "    # Create a figure with two subplots\n",
    "    fig, axs = plt.subplots(1, 2, figsize=(14, 10))\n",
    "\n",
    "    # Plot the first image on the left subplot\n",
    "    axs[0].imshow(np.array(img,dtype = np.float32))\n",
    "    axs[0].axis('off')\n",
    "    axs[0].set_title('Image')\n",
    "\n",
    "    # Plot the second image on the right subplot\n",
    "    axs[1].imshow(np.array(seg,dtype = np.float32))\n",
    "    axs[1].axis('off')\n",
    "    axs[1].set_title('Corresponding Segmentation')\n",
    "\n",
    "    # Show the plot\n",
    "    plt.show()\n",
    "\n",
    "print(data['image'])"
   ]
  },
  {
   "cell_type": "markdown",
   "metadata": {},
   "source": [
    "Finally, we create the dataloaders and define the batch size used later for the training."
   ]
  },
  {
   "cell_type": "code",
   "execution_count": 10,
   "metadata": {},
   "outputs": [],
   "source": [
    "batch_size = 16\n",
    "train_loader = torch.utils.data.DataLoader(train_dataset, batch_size=batch_size, shuffle=True)\n",
    "test_loader = torch.utils.data.DataLoader(test_dataset, batch_size=batch_size, shuffle=True)"
   ]
  },
  {
   "cell_type": "markdown",
   "metadata": {},
   "source": [
    "3. Defining the model and some training hyperparameters used."
   ]
  },
  {
   "cell_type": "code",
   "execution_count": 11,
   "metadata": {},
   "outputs": [
    {
     "name": "stdout",
     "output_type": "stream",
     "text": [
      "----------------------------------------------------------------\n",
      "        Layer (type)               Output Shape         Param #\n",
      "================================================================\n",
      "            Conv2d-1         [-1, 64, 256, 256]           1,792\n",
      "       BatchNorm2d-2         [-1, 64, 256, 256]             128\n",
      "              ReLU-3         [-1, 64, 256, 256]               0\n",
      "            Conv2d-4         [-1, 64, 256, 256]          36,928\n",
      "       BatchNorm2d-5         [-1, 64, 256, 256]             128\n",
      "              ReLU-6         [-1, 64, 256, 256]               0\n",
      "          ConvBloc-7         [-1, 64, 256, 256]               0\n",
      "         MaxPool2d-8         [-1, 64, 128, 128]               0\n",
      "            Conv2d-9        [-1, 128, 128, 128]          73,856\n",
      "      BatchNorm2d-10        [-1, 128, 128, 128]             256\n",
      "             ReLU-11        [-1, 128, 128, 128]               0\n",
      "           Conv2d-12        [-1, 128, 128, 128]         147,584\n",
      "      BatchNorm2d-13        [-1, 128, 128, 128]             256\n",
      "             ReLU-14        [-1, 128, 128, 128]               0\n",
      "         ConvBloc-15        [-1, 128, 128, 128]               0\n",
      "        MaxPool2d-16          [-1, 128, 64, 64]               0\n",
      "           Conv2d-17          [-1, 256, 64, 64]         295,168\n",
      "      BatchNorm2d-18          [-1, 256, 64, 64]             512\n",
      "             ReLU-19          [-1, 256, 64, 64]               0\n",
      "           Conv2d-20          [-1, 256, 64, 64]         590,080\n",
      "      BatchNorm2d-21          [-1, 256, 64, 64]             512\n",
      "             ReLU-22          [-1, 256, 64, 64]               0\n",
      "         ConvBloc-23          [-1, 256, 64, 64]               0\n",
      "        MaxPool2d-24          [-1, 256, 32, 32]               0\n",
      "           Conv2d-25          [-1, 512, 32, 32]       1,180,160\n",
      "      BatchNorm2d-26          [-1, 512, 32, 32]           1,024\n",
      "             ReLU-27          [-1, 512, 32, 32]               0\n",
      "           Conv2d-28          [-1, 512, 32, 32]       2,359,808\n",
      "      BatchNorm2d-29          [-1, 512, 32, 32]           1,024\n",
      "             ReLU-30          [-1, 512, 32, 32]               0\n",
      "         ConvBloc-31          [-1, 512, 32, 32]               0\n",
      "        MaxPool2d-32          [-1, 512, 16, 16]               0\n",
      "           Conv2d-33         [-1, 1024, 16, 16]       4,719,616\n",
      "      BatchNorm2d-34         [-1, 1024, 16, 16]           2,048\n",
      "             ReLU-35         [-1, 1024, 16, 16]               0\n",
      "           Conv2d-36         [-1, 1024, 16, 16]       9,438,208\n",
      "      BatchNorm2d-37         [-1, 1024, 16, 16]           2,048\n",
      "             ReLU-38         [-1, 1024, 16, 16]               0\n",
      "         ConvBloc-39         [-1, 1024, 16, 16]               0\n",
      "  ConvTranspose2d-40          [-1, 512, 32, 32]       2,097,664\n",
      "       Upsampling-41         [-1, 1024, 32, 32]               0\n",
      "           Conv2d-42          [-1, 512, 32, 32]       4,719,104\n",
      "      BatchNorm2d-43          [-1, 512, 32, 32]           1,024\n",
      "             ReLU-44          [-1, 512, 32, 32]               0\n",
      "           Conv2d-45          [-1, 512, 32, 32]       2,359,808\n",
      "      BatchNorm2d-46          [-1, 512, 32, 32]           1,024\n",
      "             ReLU-47          [-1, 512, 32, 32]               0\n",
      "         ConvBloc-48          [-1, 512, 32, 32]               0\n",
      "  ConvTranspose2d-49          [-1, 256, 64, 64]         524,544\n",
      "       Upsampling-50          [-1, 512, 64, 64]               0\n",
      "           Conv2d-51          [-1, 256, 64, 64]       1,179,904\n",
      "      BatchNorm2d-52          [-1, 256, 64, 64]             512\n",
      "             ReLU-53          [-1, 256, 64, 64]               0\n",
      "           Conv2d-54          [-1, 256, 64, 64]         590,080\n",
      "      BatchNorm2d-55          [-1, 256, 64, 64]             512\n",
      "             ReLU-56          [-1, 256, 64, 64]               0\n",
      "         ConvBloc-57          [-1, 256, 64, 64]               0\n",
      "  ConvTranspose2d-58        [-1, 128, 128, 128]         131,200\n",
      "       Upsampling-59        [-1, 256, 128, 128]               0\n",
      "           Conv2d-60        [-1, 128, 128, 128]         295,040\n",
      "      BatchNorm2d-61        [-1, 128, 128, 128]             256\n",
      "             ReLU-62        [-1, 128, 128, 128]               0\n",
      "           Conv2d-63        [-1, 128, 128, 128]         147,584\n",
      "      BatchNorm2d-64        [-1, 128, 128, 128]             256\n",
      "             ReLU-65        [-1, 128, 128, 128]               0\n",
      "         ConvBloc-66        [-1, 128, 128, 128]               0\n",
      "  ConvTranspose2d-67         [-1, 64, 256, 256]          32,832\n",
      "       Upsampling-68        [-1, 128, 256, 256]               0\n",
      "           Conv2d-69         [-1, 64, 256, 256]          73,792\n",
      "      BatchNorm2d-70         [-1, 64, 256, 256]             128\n",
      "             ReLU-71         [-1, 64, 256, 256]               0\n",
      "           Conv2d-72         [-1, 64, 256, 256]          36,928\n",
      "      BatchNorm2d-73         [-1, 64, 256, 256]             128\n",
      "             ReLU-74         [-1, 64, 256, 256]               0\n",
      "         ConvBloc-75         [-1, 64, 256, 256]               0\n",
      "           Conv2d-76          [-1, 1, 256, 256]              65\n",
      "================================================================\n",
      "Total params: 31,043,521\n",
      "Trainable params: 31,043,521\n",
      "Non-trainable params: 0\n",
      "----------------------------------------------------------------\n",
      "Input size (MB): 0.75\n",
      "Forward/backward pass size (MB): 1049.50\n",
      "Params size (MB): 118.42\n",
      "Estimated Total Size (MB): 1168.67\n",
      "----------------------------------------------------------------\n"
     ]
    }
   ],
   "source": [
    "from torchsummary import summary\n",
    "\n",
    "#net = torch.compile(UNet(),backend = 'aot_eager').to(device) # doesn't work on windows\n",
    "net = UNet().to(device)\n",
    "summary(net, (3, 256, 256))"
   ]
  },
  {
   "cell_type": "markdown",
   "metadata": {},
   "source": [
    "4. Defining the training hyperparameters: loss function, optimizer, number of epochs, learning rate. Defining the train and test loops."
   ]
  },
  {
   "cell_type": "markdown",
   "metadata": {},
   "source": [
    "BROKE DOWN. NEED TO REPAIR LIKE BEFORE"
   ]
  },
  {
   "cell_type": "code",
   "execution_count": 13,
   "metadata": {},
   "outputs": [
    {
     "name": "stdout",
     "output_type": "stream",
     "text": [
      "tensor(1., device='cuda:0')\n",
      "tensor(0., device='cuda:0', requires_grad=True)\n"
     ]
    }
   ],
   "source": [
    "from torchmetrics.classification import BinaryJaccardIndex\n",
    "from torchmetrics import JaccardIndex\n",
    "\n",
    "N_epochs = 150\n",
    "\n",
    "# Loss Function\n",
    "loss_func = nn.BCEWithLogitsLoss()\n",
    "\n",
    "# Optimizer\n",
    "learning_rate = 0.001\n",
    "opt = torch.optim.Adam(net.parameters(),lr = learning_rate, eps = 10**-8)\n",
    "\n",
    "Threshold = 0.5 # To classify into background or person\n",
    "\n",
    "met = BinaryJaccardIndex(threshold = Threshold).to(device)\n",
    "\n",
    "patience = 10\n",
    "es = ou.EarlyStopping(patience=patience)\n",
    "scaler = torch.cuda.amp.GradScaler()\n",
    "\n",
    "class IoULoss(nn.Module):\n",
    "    def __init__(self, weight=None, size_average=True):\n",
    "        super(IoULoss, self).__init__()\n",
    "\n",
    "    def forward(self, input, target, threshold = 0.5, smooth=1):\n",
    "        \n",
    "        jc = JaccardIndex(task = \"binary\",threshold = Threshold).to(device)\n",
    "\n",
    "        loss = 1 - jc(input, target)\n",
    "                \n",
    "        return loss.detach().requires_grad_(True)\n",
    "\n",
    "\n",
    "# Check\n",
    "loss_func2 = IoULoss().to(device)\n",
    "print(met(data['segmentation'].to(device),data['segmentation'].to(device)))\n",
    "print(loss_func2(data['segmentation'].to(device),data['segmentation'].to(device)))"
   ]
  },
  {
   "cell_type": "code",
   "execution_count": 14,
   "metadata": {},
   "outputs": [
    {
     "name": "stdout",
     "output_type": "stream",
     "text": [
      "Epoch 1/150\n"
     ]
    },
    {
     "name": "stderr",
     "output_type": "stream",
     "text": [
      "  0%|          | 0/15 [00:00<?, ?it/s]"
     ]
    },
    {
     "name": "stderr",
     "output_type": "stream",
     "text": [
      "                                                                      \r"
     ]
    },
    {
     "name": "stdout",
     "output_type": "stream",
     "text": [
      "Epoch: 1 | train_loss: 0.6076 | train_met: 0.2638 | test_loss: 12.2423 | test_met: 0.3739\n",
      "Epoch 2/150\n"
     ]
    },
    {
     "name": "stderr",
     "output_type": "stream",
     "text": [
      "                                                                      \r"
     ]
    },
    {
     "name": "stdout",
     "output_type": "stream",
     "text": [
      "Epoch: 2 | train_loss: 0.5122 | train_met: 0.3155 | test_loss: 0.9453 | test_met: 0.4319\n",
      "Epoch 3/150\n"
     ]
    },
    {
     "name": "stderr",
     "output_type": "stream",
     "text": [
      "                                                                      \r"
     ]
    },
    {
     "name": "stdout",
     "output_type": "stream",
     "text": [
      "Epoch: 3 | train_loss: 0.4951 | train_met: 0.3264 | test_loss: 0.6472 | test_met: 0.4505\n",
      "Epoch 4/150\n"
     ]
    },
    {
     "name": "stderr",
     "output_type": "stream",
     "text": [
      "                                                                      \r"
     ]
    },
    {
     "name": "stdout",
     "output_type": "stream",
     "text": [
      "Epoch: 4 | train_loss: 0.4870 | train_met: 0.2953 | test_loss: 0.5072 | test_met: 0.4880\n",
      "Epoch 5/150\n"
     ]
    },
    {
     "name": "stderr",
     "output_type": "stream",
     "text": [
      "                                                                      \r"
     ]
    },
    {
     "name": "stdout",
     "output_type": "stream",
     "text": [
      "Epoch: 5 | train_loss: 0.4651 | train_met: 0.3634 | test_loss: 0.6660 | test_met: 0.3534\n",
      "Epoch 6/150\n"
     ]
    },
    {
     "name": "stderr",
     "output_type": "stream",
     "text": [
      "                                                                      \r"
     ]
    },
    {
     "name": "stdout",
     "output_type": "stream",
     "text": [
      "Epoch: 6 | train_loss: 0.4412 | train_met: 0.4174 | test_loss: 0.5103 | test_met: 0.5583\n",
      "Epoch 7/150\n"
     ]
    },
    {
     "name": "stderr",
     "output_type": "stream",
     "text": [
      "                                                                      \r"
     ]
    },
    {
     "name": "stdout",
     "output_type": "stream",
     "text": [
      "Epoch: 7 | train_loss: 0.4324 | train_met: 0.4130 | test_loss: 0.4492 | test_met: 0.5896\n",
      "Epoch 8/150\n"
     ]
    },
    {
     "name": "stderr",
     "output_type": "stream",
     "text": [
      "                                                                      \r"
     ]
    },
    {
     "name": "stdout",
     "output_type": "stream",
     "text": [
      "Epoch: 8 | train_loss: 0.3895 | train_met: 0.4947 | test_loss: 0.4844 | test_met: 0.5019\n",
      "Epoch 9/150\n"
     ]
    },
    {
     "name": "stderr",
     "output_type": "stream",
     "text": [
      "                                                                      \r"
     ]
    },
    {
     "name": "stdout",
     "output_type": "stream",
     "text": [
      "Epoch: 9 | train_loss: 0.3891 | train_met: 0.4809 | test_loss: 0.4088 | test_met: 0.5763\n",
      "Epoch 10/150\n"
     ]
    },
    {
     "name": "stderr",
     "output_type": "stream",
     "text": [
      "                                                                      \r"
     ]
    },
    {
     "name": "stdout",
     "output_type": "stream",
     "text": [
      "Epoch: 10 | train_loss: 0.3647 | train_met: 0.5102 | test_loss: 0.3720 | test_met: 0.6454\n",
      "Epoch 11/150\n"
     ]
    },
    {
     "name": "stderr",
     "output_type": "stream",
     "text": [
      "                                                                      \r"
     ]
    },
    {
     "name": "stdout",
     "output_type": "stream",
     "text": [
      "Epoch: 11 | train_loss: 0.3467 | train_met: 0.5418 | test_loss: 0.4005 | test_met: 0.5659\n",
      "Epoch 12/150\n"
     ]
    },
    {
     "name": "stderr",
     "output_type": "stream",
     "text": [
      "                                                                      \r"
     ]
    },
    {
     "name": "stdout",
     "output_type": "stream",
     "text": [
      "Epoch: 12 | train_loss: 0.3295 | train_met: 0.5489 | test_loss: 0.3470 | test_met: 0.6501\n",
      "Epoch 13/150\n"
     ]
    },
    {
     "name": "stderr",
     "output_type": "stream",
     "text": [
      "                                                                      \r"
     ]
    },
    {
     "name": "stdout",
     "output_type": "stream",
     "text": [
      "Epoch: 13 | train_loss: 0.3119 | train_met: 0.5745 | test_loss: 0.3819 | test_met: 0.5718\n",
      "Epoch 14/150\n"
     ]
    },
    {
     "name": "stderr",
     "output_type": "stream",
     "text": [
      "                                                                      \r"
     ]
    },
    {
     "name": "stdout",
     "output_type": "stream",
     "text": [
      "Epoch: 14 | train_loss: 0.3158 | train_met: 0.5740 | test_loss: 0.3510 | test_met: 0.6357\n",
      "Epoch 15/150\n"
     ]
    },
    {
     "name": "stderr",
     "output_type": "stream",
     "text": [
      "                                                                      \r"
     ]
    },
    {
     "name": "stdout",
     "output_type": "stream",
     "text": [
      "Epoch: 15 | train_loss: 0.3169 | train_met: 0.5670 | test_loss: 0.3788 | test_met: 0.6417\n",
      "Epoch 16/150\n"
     ]
    },
    {
     "name": "stderr",
     "output_type": "stream",
     "text": [
      "                                                                      \r"
     ]
    },
    {
     "name": "stdout",
     "output_type": "stream",
     "text": [
      "Epoch: 16 | train_loss: 0.2990 | train_met: 0.5921 | test_loss: 0.4792 | test_met: 0.4733\n",
      "Epoch 17/150\n"
     ]
    },
    {
     "name": "stderr",
     "output_type": "stream",
     "text": [
      "                                                                      \r"
     ]
    },
    {
     "name": "stdout",
     "output_type": "stream",
     "text": [
      "Epoch: 17 | train_loss: 0.2963 | train_met: 0.5929 | test_loss: 0.3623 | test_met: 0.6589\n",
      "Epoch 18/150\n"
     ]
    },
    {
     "name": "stderr",
     "output_type": "stream",
     "text": [
      "                                                                      \r"
     ]
    },
    {
     "name": "stdout",
     "output_type": "stream",
     "text": [
      "Epoch: 18 | train_loss: 0.2890 | train_met: 0.5981 | test_loss: 0.3950 | test_met: 0.6104\n",
      "Epoch 19/150\n"
     ]
    },
    {
     "name": "stderr",
     "output_type": "stream",
     "text": [
      "                                                                      \r"
     ]
    },
    {
     "name": "stdout",
     "output_type": "stream",
     "text": [
      "Epoch: 19 | train_loss: 0.3016 | train_met: 0.5908 | test_loss: 0.3863 | test_met: 0.5763\n",
      "Epoch 20/150\n"
     ]
    },
    {
     "name": "stderr",
     "output_type": "stream",
     "text": [
      "                                                                      \r"
     ]
    },
    {
     "name": "stdout",
     "output_type": "stream",
     "text": [
      "Epoch: 20 | train_loss: 0.2730 | train_met: 0.6217 | test_loss: 0.3276 | test_met: 0.6821\n",
      "Epoch 21/150\n"
     ]
    },
    {
     "name": "stderr",
     "output_type": "stream",
     "text": [
      "                                                                      \r"
     ]
    },
    {
     "name": "stdout",
     "output_type": "stream",
     "text": [
      "Epoch: 21 | train_loss: 0.2704 | train_met: 0.6283 | test_loss: 0.4702 | test_met: 0.5746\n",
      "Epoch 22/150\n"
     ]
    },
    {
     "name": "stderr",
     "output_type": "stream",
     "text": [
      "                                                                      \r"
     ]
    },
    {
     "name": "stdout",
     "output_type": "stream",
     "text": [
      "Epoch: 22 | train_loss: 0.2816 | train_met: 0.6118 | test_loss: 0.3730 | test_met: 0.6151\n",
      "Epoch 23/150\n"
     ]
    },
    {
     "name": "stderr",
     "output_type": "stream",
     "text": [
      "                                                                      \r"
     ]
    },
    {
     "name": "stdout",
     "output_type": "stream",
     "text": [
      "Epoch: 23 | train_loss: 0.2700 | train_met: 0.6253 | test_loss: 0.3366 | test_met: 0.6417\n",
      "Epoch 24/150\n"
     ]
    },
    {
     "name": "stderr",
     "output_type": "stream",
     "text": [
      "                                                                      \r"
     ]
    },
    {
     "name": "stdout",
     "output_type": "stream",
     "text": [
      "Epoch: 24 | train_loss: 0.2684 | train_met: 0.6384 | test_loss: 0.3525 | test_met: 0.6307\n",
      "Epoch 25/150\n"
     ]
    },
    {
     "name": "stderr",
     "output_type": "stream",
     "text": [
      "                                                                      \r"
     ]
    },
    {
     "name": "stdout",
     "output_type": "stream",
     "text": [
      "Epoch: 25 | train_loss: 0.2583 | train_met: 0.6452 | test_loss: 0.3407 | test_met: 0.6312\n",
      "Epoch 26/150\n"
     ]
    },
    {
     "name": "stderr",
     "output_type": "stream",
     "text": [
      "                                                                      \r"
     ]
    },
    {
     "name": "stdout",
     "output_type": "stream",
     "text": [
      "Epoch: 26 | train_loss: 0.2626 | train_met: 0.6356 | test_loss: 0.3216 | test_met: 0.6867\n",
      "Epoch 27/150\n"
     ]
    },
    {
     "name": "stderr",
     "output_type": "stream",
     "text": [
      "                                                                      \r"
     ]
    },
    {
     "name": "stdout",
     "output_type": "stream",
     "text": [
      "Epoch: 27 | train_loss: 0.2452 | train_met: 0.6640 | test_loss: 0.2845 | test_met: 0.7182\n",
      "Epoch 28/150\n"
     ]
    },
    {
     "name": "stderr",
     "output_type": "stream",
     "text": [
      "                                                                      \r"
     ]
    },
    {
     "name": "stdout",
     "output_type": "stream",
     "text": [
      "Epoch: 28 | train_loss: 0.2325 | train_met: 0.6768 | test_loss: 0.3115 | test_met: 0.7103\n",
      "Epoch 29/150\n"
     ]
    },
    {
     "name": "stderr",
     "output_type": "stream",
     "text": [
      "                                                                      \r"
     ]
    },
    {
     "name": "stdout",
     "output_type": "stream",
     "text": [
      "Epoch: 29 | train_loss: 0.2435 | train_met: 0.6625 | test_loss: 0.4098 | test_met: 0.6011\n",
      "Epoch 30/150\n"
     ]
    },
    {
     "name": "stderr",
     "output_type": "stream",
     "text": [
      "                                                                      \r"
     ]
    },
    {
     "name": "stdout",
     "output_type": "stream",
     "text": [
      "Epoch: 30 | train_loss: 0.2563 | train_met: 0.6329 | test_loss: 0.3504 | test_met: 0.6889\n",
      "Epoch 31/150\n"
     ]
    },
    {
     "name": "stderr",
     "output_type": "stream",
     "text": [
      "                                                                      \r"
     ]
    },
    {
     "name": "stdout",
     "output_type": "stream",
     "text": [
      "Epoch: 31 | train_loss: 0.2480 | train_met: 0.6608 | test_loss: 0.3562 | test_met: 0.6609\n",
      "Epoch 32/150\n"
     ]
    },
    {
     "name": "stderr",
     "output_type": "stream",
     "text": [
      "                                                                      \r"
     ]
    },
    {
     "name": "stdout",
     "output_type": "stream",
     "text": [
      "Epoch: 32 | train_loss: 0.2429 | train_met: 0.6715 | test_loss: 0.2793 | test_met: 0.7408\n",
      "Epoch 33/150\n"
     ]
    },
    {
     "name": "stderr",
     "output_type": "stream",
     "text": [
      "                                                                      \r"
     ]
    },
    {
     "name": "stdout",
     "output_type": "stream",
     "text": [
      "Epoch: 33 | train_loss: 0.2477 | train_met: 0.6537 | test_loss: 0.3202 | test_met: 0.7014\n",
      "Epoch 34/150\n"
     ]
    },
    {
     "name": "stderr",
     "output_type": "stream",
     "text": [
      "                                                                      \r"
     ]
    },
    {
     "name": "stdout",
     "output_type": "stream",
     "text": [
      "Epoch: 34 | train_loss: 0.2361 | train_met: 0.6548 | test_loss: 0.3731 | test_met: 0.6371\n",
      "Epoch 35/150\n"
     ]
    },
    {
     "name": "stderr",
     "output_type": "stream",
     "text": [
      "                                                                      \r"
     ]
    },
    {
     "name": "stdout",
     "output_type": "stream",
     "text": [
      "Epoch: 35 | train_loss: 0.2405 | train_met: 0.6718 | test_loss: 0.3377 | test_met: 0.6571\n",
      "Epoch 36/150\n"
     ]
    },
    {
     "name": "stderr",
     "output_type": "stream",
     "text": [
      "                                                                      \r"
     ]
    },
    {
     "name": "stdout",
     "output_type": "stream",
     "text": [
      "Epoch: 36 | train_loss: 0.2350 | train_met: 0.6778 | test_loss: 0.3528 | test_met: 0.6504\n",
      "Epoch 37/150\n"
     ]
    },
    {
     "name": "stderr",
     "output_type": "stream",
     "text": [
      "                                                                      \r"
     ]
    },
    {
     "name": "stdout",
     "output_type": "stream",
     "text": [
      "Epoch: 37 | train_loss: 0.2383 | train_met: 0.6742 | test_loss: 0.3456 | test_met: 0.7068\n",
      "Epoch 38/150\n"
     ]
    },
    {
     "name": "stderr",
     "output_type": "stream",
     "text": [
      "                                                                      \r"
     ]
    },
    {
     "name": "stdout",
     "output_type": "stream",
     "text": [
      "Epoch: 38 | train_loss: 0.2192 | train_met: 0.6996 | test_loss: 0.4116 | test_met: 0.5942\n",
      "Epoch 39/150\n"
     ]
    },
    {
     "name": "stderr",
     "output_type": "stream",
     "text": [
      "                                                                      \r"
     ]
    },
    {
     "name": "stdout",
     "output_type": "stream",
     "text": [
      "Epoch: 39 | train_loss: 0.2228 | train_met: 0.6936 | test_loss: 0.2811 | test_met: 0.7297\n",
      "Epoch 40/150\n"
     ]
    },
    {
     "name": "stderr",
     "output_type": "stream",
     "text": [
      "                                                                      \r"
     ]
    },
    {
     "name": "stdout",
     "output_type": "stream",
     "text": [
      "Epoch: 40 | train_loss: 0.2211 | train_met: 0.6909 | test_loss: 0.3620 | test_met: 0.6510\n",
      "Epoch 41/150\n"
     ]
    },
    {
     "name": "stderr",
     "output_type": "stream",
     "text": [
      "                                                                      \r"
     ]
    },
    {
     "name": "stdout",
     "output_type": "stream",
     "text": [
      "Epoch: 41 | train_loss: 0.2120 | train_met: 0.7031 | test_loss: 0.3183 | test_met: 0.6809\n",
      "Epoch 42/150\n"
     ]
    },
    {
     "name": "stderr",
     "output_type": "stream",
     "text": [
      "                                                                      \r"
     ]
    },
    {
     "name": "stdout",
     "output_type": "stream",
     "text": [
      "Epoch: 42 | train_loss: 0.2046 | train_met: 0.7102 | test_loss: 0.3196 | test_met: 0.6876\n",
      "Epoch 43/150\n"
     ]
    },
    {
     "name": "stderr",
     "output_type": "stream",
     "text": [
      "                                                                      \r"
     ]
    },
    {
     "name": "stdout",
     "output_type": "stream",
     "text": [
      "Epoch: 43 | train_loss: 0.2001 | train_met: 0.7196 | test_loss: 0.2905 | test_met: 0.7199\n",
      "Epoch 44/150\n"
     ]
    },
    {
     "name": "stderr",
     "output_type": "stream",
     "text": [
      "                                                                      \r"
     ]
    },
    {
     "name": "stdout",
     "output_type": "stream",
     "text": [
      "Epoch: 44 | train_loss: 0.1872 | train_met: 0.7392 | test_loss: 0.3502 | test_met: 0.6720\n",
      "Epoch 45/150\n"
     ]
    },
    {
     "name": "stderr",
     "output_type": "stream",
     "text": [
      "                                                                      \r"
     ]
    },
    {
     "name": "stdout",
     "output_type": "stream",
     "text": [
      "Epoch: 45 | train_loss: 0.2044 | train_met: 0.7177 | test_loss: 0.3138 | test_met: 0.7133\n",
      "Epoch 46/150\n"
     ]
    },
    {
     "name": "stderr",
     "output_type": "stream",
     "text": [
      "                                                                      \r"
     ]
    },
    {
     "name": "stdout",
     "output_type": "stream",
     "text": [
      "Epoch: 46 | train_loss: 0.1918 | train_met: 0.7298 | test_loss: 0.3111 | test_met: 0.7002\n",
      "Epoch 47/150\n"
     ]
    },
    {
     "name": "stderr",
     "output_type": "stream",
     "text": [
      "                                                                      \r"
     ]
    },
    {
     "name": "stdout",
     "output_type": "stream",
     "text": [
      "Epoch: 47 | train_loss: 0.1971 | train_met: 0.7217 | test_loss: 0.4474 | test_met: 0.6171\n",
      "Epoch 48/150\n"
     ]
    },
    {
     "name": "stderr",
     "output_type": "stream",
     "text": [
      "                                                                      \r"
     ]
    },
    {
     "name": "stdout",
     "output_type": "stream",
     "text": [
      "Epoch: 48 | train_loss: 0.2048 | train_met: 0.7094 | test_loss: 0.3470 | test_met: 0.6892\n",
      "Epoch 49/150\n"
     ]
    },
    {
     "name": "stderr",
     "output_type": "stream",
     "text": [
      "                                                                      \r"
     ]
    },
    {
     "name": "stdout",
     "output_type": "stream",
     "text": [
      "Epoch: 49 | train_loss: 0.1944 | train_met: 0.7239 | test_loss: 0.3524 | test_met: 0.6515\n",
      "Epoch 50/150\n"
     ]
    },
    {
     "name": "stderr",
     "output_type": "stream",
     "text": [
      "                                                                      \r"
     ]
    },
    {
     "name": "stdout",
     "output_type": "stream",
     "text": [
      "Epoch: 50 | train_loss: 0.1768 | train_met: 0.7566 | test_loss: 0.3173 | test_met: 0.7212\n",
      "Epoch 51/150\n"
     ]
    },
    {
     "name": "stderr",
     "output_type": "stream",
     "text": [
      "                                                                      \r"
     ]
    },
    {
     "name": "stdout",
     "output_type": "stream",
     "text": [
      "Epoch: 51 | train_loss: 0.2055 | train_met: 0.7216 | test_loss: 0.3907 | test_met: 0.6138\n",
      "Epoch 52/150\n"
     ]
    },
    {
     "name": "stderr",
     "output_type": "stream",
     "text": [
      "                                                                      \r"
     ]
    },
    {
     "name": "stdout",
     "output_type": "stream",
     "text": [
      "Epoch: 52 | train_loss: 0.1789 | train_met: 0.7569 | test_loss: 0.7767 | test_met: 0.0629\n",
      "Epoch 53/150\n"
     ]
    },
    {
     "name": "stderr",
     "output_type": "stream",
     "text": [
      "                                                                      \r"
     ]
    },
    {
     "name": "stdout",
     "output_type": "stream",
     "text": [
      "Epoch: 53 | train_loss: 0.1877 | train_met: 0.7332 | test_loss: 0.5567 | test_met: 0.5896\n",
      "Epoch 54/150\n"
     ]
    },
    {
     "name": "stderr",
     "output_type": "stream",
     "text": [
      "                                                                      \r"
     ]
    },
    {
     "name": "stdout",
     "output_type": "stream",
     "text": [
      "Epoch: 54 | train_loss: 0.1931 | train_met: 0.7347 | test_loss: 0.3278 | test_met: 0.7234\n",
      "Epoch 55/150\n"
     ]
    },
    {
     "name": "stderr",
     "output_type": "stream",
     "text": [
      "                                                                      \r"
     ]
    },
    {
     "name": "stdout",
     "output_type": "stream",
     "text": [
      "Epoch: 55 | train_loss: 0.1792 | train_met: 0.7496 | test_loss: 0.2616 | test_met: 0.7460\n",
      "Epoch 56/150\n"
     ]
    },
    {
     "name": "stderr",
     "output_type": "stream",
     "text": [
      "                                                                      \r"
     ]
    },
    {
     "name": "stdout",
     "output_type": "stream",
     "text": [
      "Epoch: 56 | train_loss: 0.1793 | train_met: 0.7488 | test_loss: 0.4852 | test_met: 0.5181\n",
      "Epoch 57/150\n"
     ]
    },
    {
     "name": "stderr",
     "output_type": "stream",
     "text": [
      "                                                                      \r"
     ]
    },
    {
     "name": "stdout",
     "output_type": "stream",
     "text": [
      "Epoch: 57 | train_loss: 0.1801 | train_met: 0.7492 | test_loss: 0.3679 | test_met: 0.6694\n",
      "Epoch 58/150\n"
     ]
    },
    {
     "name": "stderr",
     "output_type": "stream",
     "text": [
      "                                                                      \r"
     ]
    },
    {
     "name": "stdout",
     "output_type": "stream",
     "text": [
      "Epoch: 58 | train_loss: 0.1705 | train_met: 0.7660 | test_loss: 0.4020 | test_met: 0.5585\n",
      "Epoch 59/150\n"
     ]
    },
    {
     "name": "stderr",
     "output_type": "stream",
     "text": [
      "                                                                      \r"
     ]
    },
    {
     "name": "stdout",
     "output_type": "stream",
     "text": [
      "Epoch: 59 | train_loss: 0.1907 | train_met: 0.7341 | test_loss: 0.2940 | test_met: 0.7436\n",
      "Epoch 60/150\n"
     ]
    },
    {
     "name": "stderr",
     "output_type": "stream",
     "text": [
      "                                                                      \r"
     ]
    },
    {
     "name": "stdout",
     "output_type": "stream",
     "text": [
      "Epoch: 60 | train_loss: 0.1642 | train_met: 0.7762 | test_loss: 0.3679 | test_met: 0.6591\n",
      "Epoch 61/150\n"
     ]
    },
    {
     "name": "stderr",
     "output_type": "stream",
     "text": [
      "                                                                      \r"
     ]
    },
    {
     "name": "stdout",
     "output_type": "stream",
     "text": [
      "Epoch: 61 | train_loss: 0.1690 | train_met: 0.7628 | test_loss: 0.2847 | test_met: 0.7372\n",
      "Epoch 62/150\n"
     ]
    },
    {
     "name": "stderr",
     "output_type": "stream",
     "text": [
      "                                                                      \r"
     ]
    },
    {
     "name": "stdout",
     "output_type": "stream",
     "text": [
      "Epoch: 62 | train_loss: 0.1667 | train_met: 0.7617 | test_loss: 0.2730 | test_met: 0.7371\n",
      "Epoch 63/150\n"
     ]
    },
    {
     "name": "stderr",
     "output_type": "stream",
     "text": [
      "                                                                      \r"
     ]
    },
    {
     "name": "stdout",
     "output_type": "stream",
     "text": [
      "Epoch: 63 | train_loss: 0.1487 | train_met: 0.7872 | test_loss: 0.2926 | test_met: 0.7318\n",
      "Epoch 64/150\n"
     ]
    },
    {
     "name": "stderr",
     "output_type": "stream",
     "text": [
      "                                                                      \r"
     ]
    },
    {
     "name": "stdout",
     "output_type": "stream",
     "text": [
      "Epoch: 64 | train_loss: 0.1444 | train_met: 0.7952 | test_loss: 0.2686 | test_met: 0.7612\n",
      "Epoch 65/150\n"
     ]
    },
    {
     "name": "stderr",
     "output_type": "stream",
     "text": [
      "                                                                      \r"
     ]
    },
    {
     "name": "stdout",
     "output_type": "stream",
     "text": [
      "Epoch: 65 | train_loss: 0.1355 | train_met: 0.8076 | test_loss: 0.3405 | test_met: 0.6819\n",
      "Epoch 66/150\n"
     ]
    },
    {
     "name": "stderr",
     "output_type": "stream",
     "text": [
      "                                                                      \r"
     ]
    },
    {
     "name": "stdout",
     "output_type": "stream",
     "text": [
      "Epoch: 66 | train_loss: 0.1528 | train_met: 0.7830 | test_loss: 0.3007 | test_met: 0.7309\n",
      "Epoch 67/150\n"
     ]
    },
    {
     "name": "stderr",
     "output_type": "stream",
     "text": [
      "                                                                      \r"
     ]
    },
    {
     "name": "stdout",
     "output_type": "stream",
     "text": [
      "Epoch: 67 | train_loss: 0.1524 | train_met: 0.7817 | test_loss: 0.3023 | test_met: 0.7445\n",
      "Epoch 68/150\n"
     ]
    },
    {
     "name": "stderr",
     "output_type": "stream",
     "text": [
      "                                                                      \r"
     ]
    },
    {
     "name": "stdout",
     "output_type": "stream",
     "text": [
      "Epoch: 68 | train_loss: 0.1408 | train_met: 0.8003 | test_loss: 0.3288 | test_met: 0.7207\n",
      "Epoch 69/150\n"
     ]
    },
    {
     "name": "stderr",
     "output_type": "stream",
     "text": [
      "                                                                      \r"
     ]
    },
    {
     "name": "stdout",
     "output_type": "stream",
     "text": [
      "Epoch: 69 | train_loss: 0.1346 | train_met: 0.8091 | test_loss: 0.3353 | test_met: 0.6984\n",
      "Epoch 70/150\n"
     ]
    },
    {
     "name": "stderr",
     "output_type": "stream",
     "text": [
      "                                                                      \r"
     ]
    },
    {
     "name": "stdout",
     "output_type": "stream",
     "text": [
      "Epoch: 70 | train_loss: 0.1278 | train_met: 0.8162 | test_loss: 0.2583 | test_met: 0.7574\n",
      "Epoch 71/150\n"
     ]
    },
    {
     "name": "stderr",
     "output_type": "stream",
     "text": [
      "                                                                      \r"
     ]
    },
    {
     "name": "stdout",
     "output_type": "stream",
     "text": [
      "Epoch: 71 | train_loss: 0.1299 | train_met: 0.8132 | test_loss: 0.3446 | test_met: 0.6868\n",
      "Epoch 72/150\n"
     ]
    },
    {
     "name": "stderr",
     "output_type": "stream",
     "text": [
      "                                                                      \r"
     ]
    },
    {
     "name": "stdout",
     "output_type": "stream",
     "text": [
      "Epoch: 72 | train_loss: 0.1332 | train_met: 0.8087 | test_loss: 0.3388 | test_met: 0.7100\n",
      "Epoch 73/150\n"
     ]
    },
    {
     "name": "stderr",
     "output_type": "stream",
     "text": [
      "                                                                       \r"
     ]
    },
    {
     "name": "stdout",
     "output_type": "stream",
     "text": [
      "Epoch: 73 | train_loss: 0.1280 | train_met: 0.8137 | test_loss: 0.2800 | test_met: 0.7524\n",
      "Epoch 74/150\n"
     ]
    },
    {
     "name": "stderr",
     "output_type": "stream",
     "text": [
      "                                                                      \r"
     ]
    },
    {
     "name": "stdout",
     "output_type": "stream",
     "text": [
      "Epoch: 74 | train_loss: 0.1458 | train_met: 0.7976 | test_loss: 0.3247 | test_met: 0.6937\n",
      "Epoch 75/150\n"
     ]
    },
    {
     "name": "stderr",
     "output_type": "stream",
     "text": [
      "                                                                      \r"
     ]
    },
    {
     "name": "stdout",
     "output_type": "stream",
     "text": [
      "Epoch: 75 | train_loss: 0.1451 | train_met: 0.7933 | test_loss: 0.4102 | test_met: 0.6247\n",
      "Epoch 76/150\n"
     ]
    },
    {
     "name": "stderr",
     "output_type": "stream",
     "text": [
      "                                                                       \r"
     ]
    },
    {
     "name": "stdout",
     "output_type": "stream",
     "text": [
      "Epoch: 76 | train_loss: 0.1323 | train_met: 0.8151 | test_loss: 0.2541 | test_met: 0.7719\n",
      "Epoch 77/150\n"
     ]
    },
    {
     "name": "stderr",
     "output_type": "stream",
     "text": [
      "                                                                      \r"
     ]
    },
    {
     "name": "stdout",
     "output_type": "stream",
     "text": [
      "Epoch: 77 | train_loss: 0.1252 | train_met: 0.8205 | test_loss: 0.3088 | test_met: 0.7466\n",
      "Epoch 78/150\n"
     ]
    },
    {
     "name": "stderr",
     "output_type": "stream",
     "text": [
      "                                                                      \r"
     ]
    },
    {
     "name": "stdout",
     "output_type": "stream",
     "text": [
      "Epoch: 78 | train_loss: 0.1261 | train_met: 0.8189 | test_loss: 0.3985 | test_met: 0.6628\n",
      "Epoch 79/150\n"
     ]
    },
    {
     "name": "stderr",
     "output_type": "stream",
     "text": [
      "                                                                      \r"
     ]
    },
    {
     "name": "stdout",
     "output_type": "stream",
     "text": [
      "Epoch: 79 | train_loss: 0.1198 | train_met: 0.8220 | test_loss: 0.3258 | test_met: 0.7350\n",
      "Epoch 80/150\n"
     ]
    },
    {
     "name": "stderr",
     "output_type": "stream",
     "text": [
      "                                                                       \r"
     ]
    },
    {
     "name": "stdout",
     "output_type": "stream",
     "text": [
      "Epoch: 80 | train_loss: 0.1203 | train_met: 0.8331 | test_loss: 0.3229 | test_met: 0.7197\n",
      "Epoch 81/150\n"
     ]
    },
    {
     "name": "stderr",
     "output_type": "stream",
     "text": [
      "                                                                       \r"
     ]
    },
    {
     "name": "stdout",
     "output_type": "stream",
     "text": [
      "Epoch: 81 | train_loss: 0.1309 | train_met: 0.8134 | test_loss: 0.3655 | test_met: 0.6953\n",
      "Epoch 82/150\n"
     ]
    },
    {
     "name": "stderr",
     "output_type": "stream",
     "text": [
      "                                                                       \r"
     ]
    },
    {
     "name": "stdout",
     "output_type": "stream",
     "text": [
      "Epoch: 82 | train_loss: 0.1278 | train_met: 0.8152 | test_loss: 0.2863 | test_met: 0.7491\n",
      "Epoch 83/150\n"
     ]
    },
    {
     "name": "stderr",
     "output_type": "stream",
     "text": [
      "                                                                      \r"
     ]
    },
    {
     "name": "stdout",
     "output_type": "stream",
     "text": [
      "Epoch: 83 | train_loss: 0.1181 | train_met: 0.8307 | test_loss: 0.3352 | test_met: 0.7140\n",
      "Epoch 84/150\n"
     ]
    },
    {
     "name": "stderr",
     "output_type": "stream",
     "text": [
      "                                                                       \r"
     ]
    },
    {
     "name": "stdout",
     "output_type": "stream",
     "text": [
      "Epoch: 84 | train_loss: 0.1164 | train_met: 0.8370 | test_loss: 0.2726 | test_met: 0.7848\n",
      "Epoch 85/150\n"
     ]
    },
    {
     "name": "stderr",
     "output_type": "stream",
     "text": [
      "                                                                       \r"
     ]
    },
    {
     "name": "stdout",
     "output_type": "stream",
     "text": [
      "Epoch: 85 | train_loss: 0.1094 | train_met: 0.8434 | test_loss: 0.2650 | test_met: 0.7569\n",
      "Epoch 86/150\n"
     ]
    },
    {
     "name": "stderr",
     "output_type": "stream",
     "text": [
      "                                                                       \r"
     ]
    },
    {
     "name": "stdout",
     "output_type": "stream",
     "text": [
      "Epoch: 86 | train_loss: 0.1083 | train_met: 0.8439 | test_loss: 0.3979 | test_met: 0.6690\n",
      "Epoch 87/150\n"
     ]
    },
    {
     "name": "stderr",
     "output_type": "stream",
     "text": [
      "                                                                       \r"
     ]
    },
    {
     "name": "stdout",
     "output_type": "stream",
     "text": [
      "Epoch: 87 | train_loss: 0.1266 | train_met: 0.8124 | test_loss: 0.3160 | test_met: 0.7471\n",
      "Epoch 88/150\n"
     ]
    },
    {
     "name": "stderr",
     "output_type": "stream",
     "text": [
      "                                                                       \r"
     ]
    },
    {
     "name": "stdout",
     "output_type": "stream",
     "text": [
      "Epoch: 88 | train_loss: 0.1098 | train_met: 0.8421 | test_loss: 0.2796 | test_met: 0.7589\n",
      "Epoch 89/150\n"
     ]
    },
    {
     "name": "stderr",
     "output_type": "stream",
     "text": [
      "                                                                      \r"
     ]
    },
    {
     "name": "stdout",
     "output_type": "stream",
     "text": [
      "Epoch: 89 | train_loss: 0.1141 | train_met: 0.8358 | test_loss: 0.6138 | test_met: 0.5221\n",
      "Epoch 90/150\n"
     ]
    },
    {
     "name": "stderr",
     "output_type": "stream",
     "text": [
      "                                                                       \r"
     ]
    },
    {
     "name": "stdout",
     "output_type": "stream",
     "text": [
      "Epoch: 90 | train_loss: 0.1110 | train_met: 0.8398 | test_loss: 0.2954 | test_met: 0.7394\n",
      "Epoch 91/150\n"
     ]
    },
    {
     "name": "stderr",
     "output_type": "stream",
     "text": [
      "                                                                       \r"
     ]
    },
    {
     "name": "stdout",
     "output_type": "stream",
     "text": [
      "Epoch: 91 | train_loss: 0.0993 | train_met: 0.8602 | test_loss: 0.3622 | test_met: 0.6909\n",
      "Epoch 92/150\n"
     ]
    },
    {
     "name": "stderr",
     "output_type": "stream",
     "text": [
      "                                                                       \r"
     ]
    },
    {
     "name": "stdout",
     "output_type": "stream",
     "text": [
      "Epoch: 92 | train_loss: 0.0967 | train_met: 0.8611 | test_loss: 0.3213 | test_met: 0.7236\n",
      "Epoch 93/150\n"
     ]
    },
    {
     "name": "stderr",
     "output_type": "stream",
     "text": [
      "                                                                       \r"
     ]
    },
    {
     "name": "stdout",
     "output_type": "stream",
     "text": [
      "Epoch: 93 | train_loss: 0.0850 | train_met: 0.8809 | test_loss: 0.3781 | test_met: 0.6930\n",
      "Epoch 94/150\n"
     ]
    },
    {
     "name": "stderr",
     "output_type": "stream",
     "text": [
      "                                                                       \r"
     ]
    },
    {
     "name": "stdout",
     "output_type": "stream",
     "text": [
      "Epoch: 94 | train_loss: 0.0849 | train_met: 0.8781 | test_loss: 0.2890 | test_met: 0.7590\n",
      "Epoch 95/150\n"
     ]
    },
    {
     "name": "stderr",
     "output_type": "stream",
     "text": [
      "                                                                       \r"
     ]
    },
    {
     "name": "stdout",
     "output_type": "stream",
     "text": [
      "Epoch: 95 | train_loss: 0.0881 | train_met: 0.8788 | test_loss: 0.3542 | test_met: 0.7360\n",
      "Epoch 96/150\n"
     ]
    },
    {
     "name": "stderr",
     "output_type": "stream",
     "text": [
      "                                                                       \r"
     ]
    },
    {
     "name": "stdout",
     "output_type": "stream",
     "text": [
      "Epoch: 96 | train_loss: 0.0914 | train_met: 0.8676 | test_loss: 0.4034 | test_met: 0.6717\n",
      "Epoch 97/150\n"
     ]
    },
    {
     "name": "stderr",
     "output_type": "stream",
     "text": [
      "                                                                       \r"
     ]
    },
    {
     "name": "stdout",
     "output_type": "stream",
     "text": [
      "Epoch: 97 | train_loss: 0.0861 | train_met: 0.8765 | test_loss: 0.3118 | test_met: 0.7410\n",
      "Epoch 98/150\n"
     ]
    },
    {
     "name": "stderr",
     "output_type": "stream",
     "text": [
      "                                                                       \r"
     ]
    },
    {
     "name": "stdout",
     "output_type": "stream",
     "text": [
      "Epoch: 98 | train_loss: 0.0892 | train_met: 0.8733 | test_loss: 0.2983 | test_met: 0.7522\n",
      "Epoch 99/150\n"
     ]
    },
    {
     "name": "stderr",
     "output_type": "stream",
     "text": [
      "                                                                       \r"
     ]
    },
    {
     "name": "stdout",
     "output_type": "stream",
     "text": [
      "Epoch: 99 | train_loss: 0.0899 | train_met: 0.8744 | test_loss: 0.4836 | test_met: 0.6321\n",
      "Epoch 100/150\n"
     ]
    },
    {
     "name": "stderr",
     "output_type": "stream",
     "text": [
      "                                                                       \r"
     ]
    },
    {
     "name": "stdout",
     "output_type": "stream",
     "text": [
      "Epoch: 100 | train_loss: 0.0904 | train_met: 0.8696 | test_loss: 0.2558 | test_met: 0.7876\n",
      "Epoch 101/150\n"
     ]
    },
    {
     "name": "stderr",
     "output_type": "stream",
     "text": [
      "                                                                       \r"
     ]
    },
    {
     "name": "stdout",
     "output_type": "stream",
     "text": [
      "Epoch: 101 | train_loss: 0.0990 | train_met: 0.8547 | test_loss: 0.3068 | test_met: 0.7523\n",
      "Early Stopping: Patience 25 exceeded!\n"
     ]
    }
   ],
   "source": [
    "from tqdm import tqdm\n",
    "from typing import Dict, List, Tuple, Callable\n",
    "\n",
    "# Training and testing function\n",
    "def train_step(model: torch.nn.Module,\n",
    "               dataloader: torch.utils.data.DataLoader,\n",
    "               loss_fn: torch.nn.Module,\n",
    "               metrics: Callable[[torch.tensor,torch.tensor],torch.tensor],\n",
    "               optimizer: torch.optim.Optimizer,\n",
    "               device: torch.device) -> Tuple[float, float]:\n",
    "    \n",
    "    # Put model in train mode\n",
    "    model.train()\n",
    "\n",
    "    # Setup train loss and train accuracy values\n",
    "    train_loss, train_met = 0, 0\n",
    "\n",
    "    loop = tqdm(enumerate(dataloader), total = len(dataloader), leave = False)\n",
    "    # Loop through data loader data batches\n",
    "    for batch,sample in loop:\n",
    "        with torch.autocast(device_type=device, dtype=torch.float16, enabled=True):\n",
    "            X = sample[\"image\"].to(device)\n",
    "            y = sample[\"segmentation\"].to(device)\n",
    "\n",
    "            # 1. Forward pass\n",
    "            y_pred = model(X)\n",
    "            y_pred = torch.squeeze(y_pred,1)\n",
    "            loss = loss_fn(input = y_pred, target = y)\n",
    "            \n",
    "            # THE LOSS SHOULD BE PUT BEFORE IF BCE logits, else after\n",
    "            y_pred = torch.sigmoid(y_pred)\n",
    "            \n",
    "            # Loss and metric\n",
    "            met = metrics(y_pred,y)\n",
    "              \n",
    "        # 3. Optimizer zero grad\n",
    "        optimizer.zero_grad()\n",
    "\n",
    "        # 4. Loss backward\n",
    "        scaler.scale(loss).backward()\n",
    "\n",
    "        # 5. Optimizer step\n",
    "        scaler.step(optimizer)\n",
    "        \n",
    "        scaler.update()\n",
    "        \n",
    "        train_met += met.item()\n",
    "        train_loss += loss.item()\n",
    "        \n",
    "        loop.set_postfix(loss = loss.item(), met = met.item())\n",
    "\n",
    "    # Adjust metrics to get average loss and metric per batch\n",
    "    train_loss = train_loss / len(dataloader)\n",
    "    train_met = train_met / len(dataloader)\n",
    "    return train_loss, train_met\n",
    "\n",
    "def test_step(model: torch.nn.Module,\n",
    "              dataloader: torch.utils.data.DataLoader,\n",
    "              loss_fn: torch.nn.Module,\n",
    "              metrics: Callable[[torch.tensor,torch.tensor],torch.tensor],\n",
    "              device: torch.device) -> Tuple[float, float]:\n",
    "    # Put model in eval mode\n",
    "    model.eval()\n",
    "\n",
    "    # Setup test loss and test accuracy values\n",
    "    test_loss, test_met = 0, 0\n",
    "\n",
    "    # Turn on inference context manager\n",
    "    with torch.inference_mode():\n",
    "        # Loop through DataLoader batches\n",
    "        for batch, sample in enumerate(dataloader):\n",
    "            with torch.autocast(device_type=device, dtype=torch.float16, enabled=True):\n",
    "            # Send data to target device\n",
    "                X = sample[\"image\"]\n",
    "                y = sample[\"segmentation\"]\n",
    "\n",
    "                X, y = X.to(device), y.to(device)\n",
    "\n",
    "                # 1. Forward pass\n",
    "                y_pred = model(X)\n",
    "                y_pred = torch.squeeze(y_pred,1)\n",
    "\n",
    "                loss = loss_fn(input = y_pred, target = y)\n",
    "\n",
    "                y_pred = torch.sigmoid(y_pred)                \n",
    "                met = metrics(y_pred,y)               \n",
    "                        \n",
    "            test_loss += loss.item()\n",
    "            test_met += met.item()\n",
    "    \n",
    "    # Adjust metrics to get average loss and accuracy per batch\n",
    "    test_loss = test_loss / len(dataloader)\n",
    "    test_met = test_met / len(dataloader)\n",
    "    return test_loss, test_met\n",
    "\n",
    "def train(model: torch.nn.Module,\n",
    "          train_dataloader: torch.utils.data.DataLoader,\n",
    "          test_dataloader: torch.utils.data.DataLoader,\n",
    "          optimizer: torch.optim.Optimizer,\n",
    "          loss_fn: torch.nn.Module,\n",
    "          metrics: Callable[[torch.tensor,torch.tensor],torch.tensor],\n",
    "          epochs: int,\n",
    "          device: torch.device) -> Dict[str, List]:\n",
    "\n",
    "    # Create empty results dictionary\n",
    "    results = {\"train_loss\": [],\n",
    "               \"train_met\": [],\n",
    "               \"test_loss\": [],\n",
    "               \"test_met\": []\n",
    "    }\n",
    "\n",
    "    # Make sure model on target device\n",
    "    model.to(device)\n",
    "\n",
    "    # Loop through training and testing steps for a number of epochs\n",
    "    for epoch in range(epochs):\n",
    "        print(f\"Epoch {epoch + 1}/{N_epochs}\")\n",
    "        train_loss, train_met = train_step(model=model,\n",
    "                                          dataloader=train_dataloader,\n",
    "                                          loss_fn=loss_fn,\n",
    "                                          optimizer=optimizer,\n",
    "                                          metrics = metrics,\n",
    "                                          device=device)\n",
    "        test_loss, test_met = test_step(model=model,\n",
    "          dataloader=test_dataloader,\n",
    "          metrics=metrics,\n",
    "          loss_fn=loss_fn,\n",
    "          device=device)\n",
    "\n",
    "        # Print out what's happening\n",
    "        print(\n",
    "          f\"Epoch: {epoch+1} | \"\n",
    "          f\"train_loss: {train_loss:.4f} | \"\n",
    "          f\"train_met: {train_met:.4f} | \"\n",
    "          f\"test_loss: {test_loss:.4f} | \"\n",
    "          f\"test_met: {test_met:.4f}\"\n",
    "        )\n",
    "\n",
    "        # Update results dictionary\n",
    "        results[\"train_loss\"].append(train_loss)\n",
    "        results[\"train_met\"].append(train_met)\n",
    "        results[\"test_loss\"].append(test_loss)\n",
    "        results[\"test_met\"].append(test_met)\n",
    "\n",
    "        # Here we will maybe define something to early stop the training\n",
    "        if es(model,results['test_loss'][epoch]):\n",
    "            print(f\"Early Stopping: Patience {patience} exceeded!\")\n",
    "            break\n",
    "        \n",
    "    # Return the filled results at the end of the epochs\n",
    "    return results\n",
    "\n",
    "\n",
    "def plot_results(dictionnary: Dict[str, List]) -> None:\n",
    "    fig, (ax1, ax2) = plt.subplots(1, 2, figsize=(14, 7))\n",
    "    \n",
    "    ax1.plot(range(len(dictionnary[\"train_loss\"])),dictionnary[\"train_loss\"],color ='blue',label='Training loss')\n",
    "    ax1.plot(range(len(dictionnary[\"train_loss\"])),dictionnary[\"test_loss\"],color = 'orange',label='Test loss')\n",
    "    ax1.set_xlabel('Epochs')\n",
    "    ax1.set_ylabel('Loss')\n",
    "    ax1.set_title(\"loss = f(epochs)\")\n",
    "    ax1.legend()\n",
    "\n",
    "    ax2.plot(range(len(dictionnary[\"train_loss\"])),dictionnary[\"train_met\"],color = 'blue',label='Training metric')\n",
    "    ax2.plot(range(len(dictionnary[\"train_loss\"])),dictionnary[\"test_met\"],color = 'orange',label='Test metric')\n",
    "    ax2.set_ylim(0,1)\n",
    "    ax2.set_title(\"acc = f(epochs)\")\n",
    "    ax2.set_xlabel('Epochs')\n",
    "    ax2.set_ylabel('Metric')\n",
    "    ax2.legend()\n",
    "    \n",
    "    plt.tight_layout()\n",
    "    plt.show()\n",
    "\n",
    "results = train(model=net,\n",
    "                train_dataloader=train_loader,\n",
    "                test_dataloader=test_loader,\n",
    "                optimizer=opt,\n",
    "                loss_fn=loss_func,\n",
    "                metrics=met,\n",
    "                epochs=N_epochs,\n",
    "                device=device)"
   ]
  },
  {
   "cell_type": "code",
   "execution_count": 15,
   "metadata": {},
   "outputs": [
    {
     "data": {
      "image/png": "[encoded data removed]",
      "text/plain": [
       "<Figure size 1400x700 with 2 Axes>"
      ]
     },
     "metadata": {},
     "output_type": "display_data"
    }
   ],
   "source": [
    "plot_results(results)"
   ]
  },
  {
   "cell_type": "markdown",
   "metadata": {},
   "source": [
    "The training isn't going well... Probably linked to the dataset being not of a sufficient size"
   ]
  },
  {
   "cell_type": "markdown",
   "metadata": {},
   "source": [
    "5. Predicting"
   ]
  },
  {
   "cell_type": "code",
   "execution_count": null,
   "metadata": {},
   "outputs": [],
   "source": [
    "image = plt.imread(\"./test_image.jpg\")\n",
    "\n",
    "def predict(model,image):\n",
    "  with torch.autocast(device_type=device, dtype=torch.float16, enabled=True):\n",
    "    with torch.no_grad():\n",
    "        size = image.shape\n",
    "\n",
    "        image = transform.resize(image, (256, 256))\n",
    "        image = torch.from_numpy(image.transpose((2, 0, 1))).type(torch.float16).to(device)\n",
    "        \n",
    "        tf = transforms.Normalize(mean = [0.485, 0.456, 0.406], std = [0.229, 0.224, 0.225])\n",
    "        image = tf(image)\n",
    "\n",
    "        image = torch.unsqueeze(image,0)\n",
    "\n",
    "        pred = transform.resize(torch.sigmoid(model(image)).to('cpu').squeeze(0).squeeze(0).numpy(),(size[0],size[1]))\n",
    "\n",
    "        pred[pred>Threshold] = 1\n",
    "        pred[pred<Threshold] = 0\n",
    "        return pred\n",
    "\n",
    "plt.imshow(image)"
   ]
  },
  {
   "cell_type": "code",
   "execution_count": 24,
   "metadata": {},
   "outputs": [
    {
     "data": {
      "text/plain": [
       "<matplotlib.image.AxesImage at 0x23372ef0190>"
      ]
     },
     "execution_count": 24,
     "metadata": {},
     "output_type": "execute_result"
    },
    {
     "data": {
      "image/png": "[encoded data removed]",
      "text/plain": [
       "<Figure size 640x480 with 1 Axes>"
      ]
     },
     "metadata": {},
     "output_type": "display_data"
    }
   ],
   "source": [
    "plt.imshow(predict(net,image))"
   ]
  },
  {
   "cell_type": "markdown",
   "metadata": {},
   "source": [
    "Really weird output, same type of output gotten on the training data! --> Comes from the architecture or from the data"
   ]
  },
  {
   "cell_type": "markdown",
   "metadata": {},
   "source": [
    "Some results:\n",
    "- After many attempts, the ColorJitter augmentation doesn't have a benefict effect for the training. The goal by adding this transformation was for the network to learn the structure associated to a person, without associating it to a color. It didn't work as expected. It seems that the transformation over the overall color was too drastic and not realistic enough which lowered the performances of our network.\n",
    "- We're quite satisfied with the results, even though it was done on a really small dataset!"
   ]
  },
  {
   "cell_type": "markdown",
   "metadata": {},
   "source": [
    "6. Saving the model"
   ]
  },
  {
   "cell_type": "code",
   "execution_count": 26,
   "metadata": {},
   "outputs": [],
   "source": [
    "# Saving the model to reuse it later\n",
    "torch.save(net.state_dict(), \"./model/state_dict\")\n",
    "\n",
    "torch.save(net,\"./model/model_full.pt\")"
   ]
  },
  {
   "cell_type": "markdown",
   "metadata": {},
   "source": [
    "7. Loading the model to see check if everything was nicely saved"
   ]
  },
  {
   "cell_type": "code",
   "execution_count": 30,
   "metadata": {},
   "outputs": [
    {
     "data": {
      "text/plain": [
       "<matplotlib.image.AxesImage at 0x233728df9d0>"
      ]
     },
     "execution_count": 30,
     "metadata": {},
     "output_type": "execute_result"
    },
    {
     "data": {
      "image/png": "[encoded data removed]",
      "text/plain": [
       "<Figure size 640x480 with 1 Axes>"
      ]
     },
     "metadata": {},
     "output_type": "display_data"
    }
   ],
   "source": [
    "model = UNet().to(device)\n",
    "model.load_state_dict(torch.load(\"./model/state_dict\"))\n",
    "plt.imshow(predict(model,image))"
   ]
  },
  {
   "cell_type": "code",
   "execution_count": 31,
   "metadata": {},
   "outputs": [
    {
     "data": {
      "text/plain": [
       "<matplotlib.image.AxesImage at 0x232859f79d0>"
      ]
     },
     "execution_count": 31,
     "metadata": {},
     "output_type": "execute_result"
    },
    {
     "data": {
      "image/png": "[encoded data removed]",
      "text/plain": [
       "<Figure size 640x480 with 1 Axes>"
      ]
     },
     "metadata": {},
     "output_type": "display_data"
    }
   ],
   "source": [
    "net1 = torch.load('./model/model_full.pt')\n",
    "plt.imshow(predict(net1,image))"
   ]
  },
  {
   "cell_type": "markdown",
   "metadata": {},
   "source": [
    "The model loaded from the state_dict doesn't output the expected prediction!\\\n",
    "Note: Add your own test image to see the prediction associated."
   ]
  }
 ],
 "metadata": {
  "kernelspec": {
   "display_name": "pytorch",
   "language": "python",
   "name": "python3"
  },
  "language_info": {
   "codemirror_mode": {
    "name": "ipython",
    "version": 3
   },
   "file_extension": ".py",
   "mimetype": "text/x-python",
   "name": "python",
   "nbconvert_exporter": "python",
   "pygments_lexer": "ipython3",
   "version": "3.11.5"
  }
 },
 "nbformat": 4,
 "nbformat_minor": 2
}
